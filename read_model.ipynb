{
 "cells": [
  {
   "cell_type": "code",
   "execution_count": 26,
   "metadata": {},
   "outputs": [],
   "source": [
    "import numpy as np\n",
    "import pandas as pd\n",
    "import librosa\n",
    "import os\n",
    "import glob\n",
    "import re\n",
    "import seaborn as sn\n",
    "import matplotlib.pyplot as plt\n",
    "import scipy\n",
    "import time\n",
    "import collections\n",
    "import keras\n",
    "import random\n",
    "from keras.utils import np_utils\n",
    "from keras.layers import MaxPooling1D, Conv1D, Conv2D, MaxPooling2D, GlobalAveragePooling2D, LSTM, ELU, Bidirectional, Attention\n",
    "from keras.layers import Dense, Dropout, Activation, Flatten, CuDNNLSTM\n",
    "from keras.preprocessing.image import ImageDataGenerator\n",
    "from keras.models import Sequential\n",
    "import tensorflow as tf\n",
    "import pickle\n",
    "from keras.utils.vis_utils import plot_model\n",
    "from tensorflow.keras import datasets, layers, models\n",
    "from tensorflow.keras.optimizers import Adam\n",
    "from sklearn.metrics import confusion_matrix\n",
    "import keras_tuner\n",
    "from keras import backend as K\n",
    "import shutil\n",
    "import os\n",
    "import tensorflow_addons as tfa\n",
    "from sklearn.datasets import make_circles\n",
    "from sklearn.metrics import accuracy_score\n",
    "from sklearn.metrics import precision_score\n",
    "from sklearn.metrics import recall_score\n",
    "from sklearn.metrics import f1_score\n",
    "from sklearn.metrics import cohen_kappa_score\n",
    "from sklearn.metrics import roc_auc_score\n",
    "from sklearn.metrics import confusion_matrix\n",
    "from keras.models import Sequential\n",
    "from keras.layers import Dense\n",
    "from sklearn import metrics"
   ]
  },
  {
   "cell_type": "code",
   "execution_count": 27,
   "metadata": {},
   "outputs": [],
   "source": [
    "def instrument_code(filename):\n",
    "    \"\"\"\n",
    "    Function that takes in a filename and returns instrument based on naming convention\n",
    "    \"\"\"\n",
    "    # Synth lead borttagen. id = 9\n",
    "    class_names=['bass', 'brass', 'flute', 'guitar', \n",
    "             'keyboard', 'mallet', 'organ', 'reed', \n",
    "             'string', 'vocal']\n",
    "    \n",
    "    for name in class_names:\n",
    "        if name in filename:\n",
    "            return class_names.index(name)\n",
    "    else:\n",
    "        return None"
   ]
  },
  {
   "cell_type": "code",
   "execution_count": 28,
   "metadata": {},
   "outputs": [
    {
     "name": "stdout",
     "output_type": "stream",
     "text": [
      "(4096, 126, 13)\n"
     ]
    }
   ],
   "source": [
    "with open(\"CustomDataFull/testdata2000.pkl\", 'rb') as f:\n",
    "    X_test_full = pickle.load(f)\n",
    "\n",
    "X_test = []\n",
    "y_test = []\n",
    "\n",
    "for(key, value) in X_test_full.items():\n",
    "    X_test.append(value)\n",
    "    y_test.append(instrument_code(key))\n",
    "y_test_numpy = np.asarray(y_test)\n",
    "X_test_numpy = np.asarray(X_test)\n",
    "print(X_test_numpy.shape)"
   ]
  },
  {
   "cell_type": "code",
   "execution_count": 32,
   "metadata": {},
   "outputs": [
    {
     "name": "stdout",
     "output_type": "stream",
     "text": [
      "128/128 [==============================] - 0s 2ms/step - loss: 1.7909 - accuracy: 0.7366\n",
      "128/128 [==============================] - 0s 2ms/step\n"
     ]
    }
   ],
   "source": [
    "from operator import add\n",
    "from functools import reduce\n",
    "\n",
    "model = tf.keras.models.load_model('models/conv2d_87500_126_13_30epochs.h5')\n",
    "\n",
    "with open('models/conv2d_87500_126_13_30epochs-history', 'rb') as f:\n",
    "    history = pickle.load(f)\n",
    "\n",
    "# Score trained model.\n",
    "scores = model.evaluate(X_test_numpy, y_test_numpy, verbose=1)\n",
    "\n",
    "y_prediction = model.predict(X_test_numpy)\n",
    "y_prediction_argmax = np.argmax(y_prediction, axis = 1)\n",
    "\n",
    "wrong_counter = 0\n",
    "correct_counter = 0\n",
    "wrong_file_dict = {}\n",
    "correct_file_dict = {}\n",
    "\n",
    "for index, elem in enumerate(y_prediction_argmax):\n",
    "    if elem != y_test_numpy[index]:\n",
    "        correct_value = y_test_numpy[index]\n",
    "        wrong_value = elem\n",
    "        correct_value_percentage = y_prediction[index][correct_value] * 100\n",
    "        wrong_value_percentage = y_prediction[index][wrong_value] * 100\n",
    "        file_name = list(X_test_full.keys())[index]\n",
    "\n",
    "        wrong_file_dict[file_name] = {\"correct_value\": correct_value,  \"wrong_value\" : wrong_value, \n",
    "                                       \"correct_value_percentage\" : correct_value_percentage,\n",
    "                                       \"wrong_value_percentage\" : wrong_value_percentage}\n",
    "    else:\n",
    "        correct_value = y_test_numpy[index]\n",
    "        correct_value_percentage = y_prediction[index][correct_value] * 100\n",
    "        file_name = list(X_test_full.keys())[index]\n",
    "        correct_file_dict[file_name] = {\"correct_value\": correct_value, \"correct_value_percentage\" : correct_value_percentage}\n",
    "\n",
    "with open('sample_results/missed_samples.txt', 'a') as f:\n",
    "    for key, value in wrong_file_dict.items():\n",
    "        f.write('%s:%s\\n' % (key, value))\n",
    "\n",
    "with open('sample_results/correctly_predicted_samples.txt', 'a') as f:\n",
    "    for key, value in correct_file_dict.items():\n",
    "        f.write('%s:%s\\n' % (key, value))\n",
    "\n",
    "#for key, value in wrong_file_dict.items():\n",
    "    #print(key, value)"
   ]
  }
 ],
 "metadata": {
  "kernelspec": {
   "display_name": "tensorflow",
   "language": "python",
   "name": "python3"
  },
  "language_info": {
   "codemirror_mode": {
    "name": "ipython",
    "version": 3
   },
   "file_extension": ".py",
   "mimetype": "text/x-python",
   "name": "python",
   "nbconvert_exporter": "python",
   "pygments_lexer": "ipython3",
   "version": "3.9.16"
  },
  "orig_nbformat": 4
 },
 "nbformat": 4,
 "nbformat_minor": 2
}
